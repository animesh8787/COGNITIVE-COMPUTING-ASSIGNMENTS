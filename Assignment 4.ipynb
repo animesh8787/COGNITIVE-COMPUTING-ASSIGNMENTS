{
 "cells": [
  {
   "cell_type": "code",
   "execution_count": 1,
   "id": "fab59bec-667a-4872-a5a4-667ff565e79a",
   "metadata": {},
   "outputs": [],
   "source": [
    "import numpy as np"
   ]
  },
  {
   "cell_type": "code",
   "execution_count": 2,
   "id": "0648a553-ffc3-4d3f-90ef-804450562386",
   "metadata": {},
   "outputs": [
    {
     "name": "stdout",
     "output_type": "stream",
     "text": [
      "[12 22 32 42 52]\n",
      "[ 30  60  90 120 150]\n",
      "[ 5. 10. 15. 20. 25.]\n"
     ]
    }
   ],
   "source": [
    "# Q.1 Write a program to create a NumPy 1D-array with 5 elements and perform basic\n",
    "# operations like:\n",
    "array1=np.array([10,20,30,40,50])\n",
    "\n",
    "# a) Addition of 2 in all the element\n",
    "print(array1+2)\n",
    "\n",
    "# b) Multiply 3 with all the elements\n",
    "print(array1*3)\n",
    "\n",
    "# c) Divide every element by 2\n",
    "print(array1/2)"
   ]
  },
  {
   "cell_type": "code",
   "execution_count": 3,
   "id": "c836d57e-e180-4d26-84e8-4b5221c944e4",
   "metadata": {},
   "outputs": [
    {
     "name": "stdout",
     "output_type": "stream",
     "text": [
      "reversed array : [55 44 66 33 22 11]\n",
      "the mode of [1 2 3 4 5 1 2 1 1 1] is 1 and indices : [0 5 7 8 9]\n",
      "the mode of [1 1 1 2 3 4 2 4 3 3] is 1 and indices : [0 1 2]\n"
     ]
    }
   ],
   "source": [
    "# Q.2 Questions on Basic NumPy Array:\n",
    "array2=np.array([11,22,33,66,44,55])\n",
    "\n",
    "# a) Reverse the NumPy array: arr = np.array([1, 2, 3, 6, 4, 5])\n",
    "array2=array2[::-1]\n",
    "print(f\"reversed array : {array2}\" )\n",
    "# b) Find the most frequent value and their indice(s) in the following arrays:\n",
    "from statistics import mode\n",
    "# i. x = np.array([1,2,3,4,5,1,2,1,1,1])\n",
    "x = np.array([1,2,3,4,5,1,2,1,1,1])\n",
    "mode1=mode(x)\n",
    "x1=np.where(x==mode1)[0]\n",
    "print(f\"the mode of {x} is {mode1} and indices : {x1}\")\n",
    "\n",
    "# ii. y = np.array([1, 1, 1, 2, 3, 4, 2, 4, 3, 3, ])\n",
    "y = np.array([1, 1, 1, 2, 3, 4, 2, 4, 3, 3, ])\n",
    "mode2=mode(y)\n",
    "y1=np.where(y==mode2)[0]\n",
    "print(f\"the mode of {y} is {mode2} and indices : {y1}\")\n",
    "     "
   ]
  },
  {
   "cell_type": "code",
   "execution_count": 4,
   "id": "34ba7259-e97a-4f83-85c4-a36ff57eb9c0",
   "metadata": {},
   "outputs": [
    {
     "name": "stdout",
     "output_type": "stream",
     "text": [
      "20\n",
      "70\n"
     ]
    }
   ],
   "source": [
    "# Q.3 For the given 2-D array arr=np.array([10, 20, 30], [40, 50, 60], [70, 80, 90]), access\n",
    "# elements using row and column indices as follows:\n",
    "array3=np.array([[10,20,30],[40,50,60],[70,80,90]])\n",
    "# a) Access 1st row, 2nd column\n",
    "print(array3[0,1])\n",
    "# b) Access 3rd row, 1st column\n",
    "print(array3[2,0])"
   ]
  },
  {
   "cell_type": "code",
   "execution_count": 5,
   "id": "4aac3bc9-7d81-4245-be06-53ce4ab34fbb",
   "metadata": {},
   "outputs": [
    {
     "name": "stdout",
     "output_type": "stream",
     "text": [
      "array is : [ 10.    13.75  17.5   21.25  25.    28.75  32.5   36.25  40.    43.75\n",
      "  47.5   51.25  55.    58.75  62.5   66.25  70.    73.75  77.5   81.25\n",
      "  85.    88.75  92.5   96.25 100.  ]\n",
      "\n",
      "dimension : 1\n",
      "shape : (25,)\n",
      "size : 25\n",
      "dtype : float64\n",
      "nbytes : 200\n",
      "\n",
      "transpose : [[ 10.  ]\n",
      " [ 13.75]\n",
      " [ 17.5 ]\n",
      " [ 21.25]\n",
      " [ 25.  ]\n",
      " [ 28.75]\n",
      " [ 32.5 ]\n",
      " [ 36.25]\n",
      " [ 40.  ]\n",
      " [ 43.75]\n",
      " [ 47.5 ]\n",
      " [ 51.25]\n",
      " [ 55.  ]\n",
      " [ 58.75]\n",
      " [ 62.5 ]\n",
      " [ 66.25]\n",
      " [ 70.  ]\n",
      " [ 73.75]\n",
      " [ 77.5 ]\n",
      " [ 81.25]\n",
      " [ 85.  ]\n",
      " [ 88.75]\n",
      " [ 92.5 ]\n",
      " [ 96.25]\n",
      " [100.  ]]\n",
      "\n",
      "[ 10.    13.75  17.5   21.25  25.    28.75  32.5   36.25  40.    43.75\n",
      "  47.5   51.25  55.    58.75  62.5   66.25  70.    73.75  77.5   81.25\n",
      "  85.    88.75  92.5   96.25 100.  ]\n"
     ]
    }
   ],
   "source": [
    "# Q.4 Write program to create an 1-D NumPy array named <> with evenly spaced 25 numbers from 10 to 100 using linspace(). Print the dimensions of the array,\n",
    "# shape, total elements, the data type of each element and total number of bytes consumed by the array. Find the transpose of this array using reshape() attribute. Can we do the same\n",
    "# with T attribute?\n",
    "\n",
    "krishna=np.linspace(10,100,25)\n",
    "print(f\"array is : {krishna}\\n\")\n",
    "print(f\"dimension : {krishna.ndim}\")\n",
    "print(f\"shape : {krishna.shape}\")\n",
    "print(f\"size : {krishna.size}\")\n",
    "print(f\"dtype : {krishna.dtype}\")\n",
    "print(f\"nbytes : {krishna.nbytes}\\n\")\n",
    "\n",
    "t1=krishna.reshape(25,1)\n",
    "print(f\"transpose : {t1}\\n\")\n",
    "\n",
    "t2=krishna.T\n",
    "print(t2)"
   ]
  },
  {
   "cell_type": "code",
   "execution_count": 6,
   "id": "63271445-6ab1-4ea3-ad14-3b9135ec3c90",
   "metadata": {},
   "outputs": [
    {
     "name": "stdout",
     "output_type": "stream",
     "text": [
      "array is : \n",
      "[[10 20 30 40]\n",
      " [50 60 70 80]\n",
      " [90 15 20 35]]\n",
      "\n",
      "mean : 43.333333333333336\n",
      "median : 37.5\n",
      "max : 90\n",
      "min : 10\n",
      "unique : [10 15 20 30 35 40 50 60 70 80 90]\n",
      "\n",
      "[[10 20 30]\n",
      " [40 50 60]\n",
      " [70 80 90]\n",
      " [15 20 35]] \n",
      "\n",
      "[[10 20 30]\n",
      " [40 50 60]]\n"
     ]
    }
   ],
   "source": [
    "# Q5. Create a 2-D Array of three rows and four columns, named ucs420_> with following values – 10, 20, 30, 40, 50, 60, 70, 80, 90, 15, 20, 35. Compute the mean,\n",
    "# median, max, min, unique elements. Reshape the array to four rows and three columns and name it as reshaped_ ucs420_>. Resize the array to two rows and three\n",
    "# columns and name it as resized_ ucs420_>.\n",
    "ucs420=np.array([10,20,30,40,50,60,70,80,90,15,20,35])\n",
    "ucs420=ucs420.reshape(3,4)\n",
    "print(f\"array is : \\n{ucs420}\\n\")\n",
    "\n",
    "mean=np.mean(ucs420)\n",
    "median=np.median(ucs420)\n",
    "max=np.max(ucs420)\n",
    "min=np.min(ucs420)\n",
    "uniqueElems=np.unique(ucs420)\n",
    "\n",
    "print(f\"mean : {mean}\")\n",
    "print(f\"median : {median}\")\n",
    "print(f\"max : {max}\")\n",
    "print(f\"min : {min}\")\n",
    "print(f\"unique : {uniqueElems}\\n\")\n",
    "\n",
    "arr=ucs420.reshape(4,3)\n",
    "print(arr,\"\\n\")\n",
    "\n",
    "arr1=np.resize(ucs420, (2, 3))\n",
    "print(arr1)\n",
    "     "
   ]
  }
 ],
 "metadata": {
  "kernelspec": {
   "display_name": "Python 3",
   "language": "python",
   "name": "python3"
  },
  "language_info": {
   "codemirror_mode": {
    "name": "ipython",
    "version": 3
   },
   "file_extension": ".py",
   "mimetype": "text/x-python",
   "name": "python",
   "nbconvert_exporter": "python",
   "pygments_lexer": "ipython3",
   "version": "3.10.11"
  }
 },
 "nbformat": 4,
 "nbformat_minor": 5
}
