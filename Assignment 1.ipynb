{
 "cells": [
  {
   "cell_type": "code",
   "execution_count": 1,
   "id": "f1074f6e-741c-48c8-97e5-f2c48b07c807",
   "metadata": {},
   "outputs": [
    {
     "name": "stdout",
     "output_type": "stream",
     "text": [
      "Animesh\n",
      "Animesh\n",
      "Animesh\n"
     ]
    }
   ],
   "source": [
    "# 1.1: WAP to print your name three times\n",
    "name=\"Animesh\"\n",
    "print(name)\n",
    "print(name)\n",
    "print(name)"
   ]
  },
  {
   "cell_type": "code",
   "execution_count": null,
   "id": "d8474ac1-1758-4ebc-84d9-80453118c6c4",
   "metadata": {},
   "outputs": [
    {
     "name": "stdout",
     "output_type": "stream",
     "text": [
      "the sum of 9 + 15 + 3 = 27\n"
     ]
    }
   ],
   "source": [
    "# 2.1 WAP to add three numbers and print the result.\n",
    "a=9\n",
    "b=15\n",
    "c=3\n",
    "\n",
    "result=a+b+c\n",
    "print(f\"The sum of {a} + {b} + {c} = {result}\")"
   ]
  },
  {
   "cell_type": "code",
   "execution_count": 3,
   "id": "672ee080-e545-444b-8cc0-e087e3243f97",
   "metadata": {},
   "outputs": [
    {
     "name": "stdout",
     "output_type": "stream",
     "text": [
      "Hello World Hi!\n"
     ]
    }
   ],
   "source": [
    "# 2.2 WAP to concatinate three strings and print the result.\n",
    "str1=\"Hello\"\n",
    "str2=\"World\"\n",
    "str3=\"Hi!\"\n",
    "\n",
    "print(str1+\" \"+str2+\" \"+str3)"
   ]
  },
  {
   "cell_type": "code",
   "execution_count": 4,
   "id": "3232ff91-bd29-4ac0-8f43-800956630783",
   "metadata": {},
   "outputs": [
    {
     "name": "stdout",
     "output_type": "stream",
     "text": [
      "7  *  1  =  7\n",
      "7  *  2  =  14\n",
      "7  *  3  =  21\n",
      "7  *  4  =  28\n",
      "7  *  5  =  35\n",
      "7  *  6  =  42\n",
      "7  *  7  =  49\n",
      "7  *  8  =  56\n",
      "7  *  9  =  63\n",
      "7  *  10  =  70\n",
      "\n",
      "9  *  1  =  9\n",
      "9  *  2  =  18\n",
      "9  *  3  =  27\n",
      "9  *  4  =  36\n",
      "9  *  5  =  45\n",
      "9  *  6  =  54\n",
      "9  *  7  =  63\n",
      "9  *  8  =  72\n",
      "9  *  9  =  81\n",
      "9  *  10  =  90\n"
     ]
    }
   ],
   "source": [
    "# 4.1: WAP to print the table of 7, 9.\n",
    "n1=7\n",
    "n2=9\n",
    "\n",
    "for i in range(1,11):\n",
    "  print(n1,\" * \",i,\" = \",n1*i)\n",
    "\n",
    "print()\n",
    "\n",
    "for i in range(1,11):\n",
    "  print(n2,\" * \",i,\" = \",n2*i)"
   ]
  },
  {
   "cell_type": "code",
   "execution_count": 5,
   "id": "974d1ba0-81f5-41d8-b5f8-9b623b4431ba",
   "metadata": {},
   "outputs": [
    {
     "name": "stdout",
     "output_type": "stream",
     "text": [
      "10  *  1  =  10\n",
      "10  *  2  =  20\n",
      "10  *  3  =  30\n",
      "10  *  4  =  40\n",
      "10  *  5  =  50\n",
      "10  *  6  =  60\n",
      "10  *  7  =  70\n",
      "10  *  8  =  80\n",
      "10  *  9  =  90\n",
      "10  *  10  =  100\n",
      "\n"
     ]
    }
   ],
   "source": [
    "# 4.2: WAP to print the table of n and n is given by user.\n",
    "n=int(input(\"enter a number: \"))\n",
    "for i in range(1,11):\n",
    "  print(n,\" * \",i,\" = \",n*i)\n",
    "\n",
    "print()"
   ]
  },
  {
   "cell_type": "code",
   "execution_count": 6,
   "id": "1ac980f7-72f6-4ab6-9976-ba94ef0310f2",
   "metadata": {},
   "outputs": [
    {
     "name": "stdout",
     "output_type": "stream",
     "text": [
      "sum of 1 to 15 is : 120\n"
     ]
    }
   ],
   "source": [
    "# 4.3 WAP to add all the numbers from 1 to n and n is given by user.\n",
    "num=int(input(\"enter a num: \"))\n",
    "\n",
    "print(\"sum of 1 to\",num,\"is :\",sum(range(1,num+1)))"
   ]
  },
  {
   "cell_type": "code",
   "execution_count": 7,
   "id": "f33dff34-a918-4ea0-b8bd-c56246094c75",
   "metadata": {},
   "outputs": [
    {
     "name": "stdout",
     "output_type": "stream",
     "text": [
      "45\n"
     ]
    }
   ],
   "source": [
    "# 5.1: WAP to find max amoung three numbers and input from user. [Try max() function]\n",
    "nums=[]\n",
    "nums.append(int(input(\"Enter first number: \")))\n",
    "nums.append(int(input(\"Enter second number: \")))\n",
    "nums.append(int(input(\"Enter third number: \")))\n",
    "\n",
    "maxnum=max(nums)\n",
    "print(maxnum)"
   ]
  },
  {
   "cell_type": "code",
   "execution_count": 10,
   "id": "df856e29-874d-4742-9d84-75b3fdede787",
   "metadata": {},
   "outputs": [
    {
     "name": "stdout",
     "output_type": "stream",
     "text": [
      "Sum of numbers divisible by both 7 and 9: 63\n"
     ]
    }
   ],
   "source": [
    "# 5.2: WAP to add all numbers divisible by 7 and 9 from 1 to n\n",
    "add = 0\n",
    "x = int(input(\"Enter n: \"))\n",
    "\n",
    "for i in range(1, x + 1):\n",
    "    if i % 7 == 0 and i % 9 == 0:\n",
    "        add += i  # Same as add = add + i\n",
    "\n",
    "print(\"Sum of numbers divisible by both 7 and 9:\", add)"
   ]
  },
  {
   "cell_type": "code",
   "execution_count": 11,
   "id": "3a210c6b-c4bc-4852-8cdd-df55f1c0fbc8",
   "metadata": {},
   "outputs": [
    {
     "name": "stdout",
     "output_type": "stream",
     "text": [
      "1060\n"
     ]
    }
   ],
   "source": [
    "# 5.3: WAP to add all prime numbers from 1 to n and n is given by the user\n",
    "def prime(num):\n",
    "  if num<=1:\n",
    "    return False\n",
    "  for i in range(2, int(num**0.5) + 1):\n",
    "        if num % i == 0:\n",
    "            return False\n",
    "  return True\n",
    "\n",
    "y=int(input(\"enter n: \"))\n",
    "sum1=0\n",
    "for i in range(2,y+1):\n",
    "  if prime(i):\n",
    "    sum1=sum1+i\n",
    "\n",
    "print(sum1)"
   ]
  },
  {
   "cell_type": "code",
   "execution_count": 12,
   "id": "b5cb15db-1210-486f-b175-836ede3d77f9",
   "metadata": {},
   "outputs": [
    {
     "name": "stdout",
     "output_type": "stream",
     "text": [
      "5625\n"
     ]
    }
   ],
   "source": [
    "# 6.1: WAP using function that add all odd numbers from 1 to n, n is given by the user.\n",
    "\n",
    "nums=int(input(\"enter n : \"))\n",
    "oddsum=0\n",
    "for i in range(1,nums+1):\n",
    "  if i%2!=0:\n",
    "    oddsum+=i\n",
    "\n",
    "print(oddsum)"
   ]
  },
  {
   "cell_type": "code",
   "execution_count": 13,
   "id": "902c9097-651d-48de-9a47-fbe903245fcb",
   "metadata": {},
   "outputs": [
    {
     "name": "stdout",
     "output_type": "stream",
     "text": [
      "281\n"
     ]
    }
   ],
   "source": [
    "#6.2: WAP using function that add all prime numbers from 1 to n, n given by the user.\n",
    "\n",
    "nums2=int(input(\"enter n: \"))\n",
    "primesum=0\n",
    "for i in range(1,nums2+1):\n",
    "  if prime(i):\n",
    "    primesum+=i\n",
    "\n",
    "print(primesum)"
   ]
  }
 ],
 "metadata": {
  "kernelspec": {
   "display_name": "Python 3",
   "language": "python",
   "name": "python3"
  },
  "language_info": {
   "codemirror_mode": {
    "name": "ipython",
    "version": 3
   },
   "file_extension": ".py",
   "mimetype": "text/x-python",
   "name": "python",
   "nbconvert_exporter": "python",
   "pygments_lexer": "ipython3",
   "version": "3.10.11"
  }
 },
 "nbformat": 4,
 "nbformat_minor": 5
}
