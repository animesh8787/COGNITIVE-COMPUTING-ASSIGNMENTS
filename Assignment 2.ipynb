{
 "cells": [
  {
   "cell_type": "code",
   "execution_count": 1,
   "id": "457921a7-d9cc-441a-a8ef-98869547f7c0",
   "metadata": {},
   "outputs": [
    {
     "name": "stdout",
     "output_type": "stream",
     "text": [
      "Initial list L= [10, 20, 30, 40, 50, 60, 70, 80]\n",
      "1. L= [10, 20, 30, 40, 50, 60, 70, 80, 200, 300]\n",
      "2. L= [20, 40, 50, 60, 70, 80, 200, 300]\n",
      "3. L= [20, 40, 50, 60, 70, 80, 200, 300]\n",
      "4. L= [300, 200, 80, 70, 60, 50, 40, 20]\n"
     ]
    }
   ],
   "source": [
    "# Q1 Create a List L that is defined as= [10, 20, 30, 40, 50, 60, 70, 80].\n",
    "L=[10, 20, 30, 40, 50, 60, 70, 80]\n",
    "print(\"Initial list L=\", L)\n",
    "\n",
    "# i. WAP to add 200 and 300 to L.\n",
    "L.append(200)\n",
    "L.append(300)\n",
    "print(\"1. L=\", L)\n",
    "\n",
    "# ii. WAP to remove 10 and 30 from L.\n",
    "L.remove(10)\n",
    "L.remove(30)\n",
    "print(\"2. L=\", L)\n",
    "\n",
    "# iii. WAP to sort L in ascending order.\n",
    "L.sort()\n",
    "print('3. L=',L)\n",
    "\n",
    "# iv. WAP to sort L in descending order.\n",
    "L.sort(reverse=True)\n",
    "print('4. L=',L)"
   ]
  },
  {
   "cell_type": "code",
   "execution_count": 2,
   "id": "f1284f5e-9050-45c6-8776-00e1289646c3",
   "metadata": {},
   "outputs": [
    {
     "name": "stdout",
     "output_type": "stream",
     "text": [
      "scores = (45, 89.5, 76, 45.4, 89, 92, 58, 45)\n",
      "highest score = 92  index is  5\n",
      "lowest score = 45  count is  2\n",
      "[45, 58, 92, 89, 45.4, 76, 89.5, 45]\n",
      "element found at index  5\n"
     ]
    }
   ],
   "source": [
    "# 2. Create a tuple of marks scored as scores = (45, 89.5, 76, 45.4, 89, 92, 58, 45) \n",
    "scores = (45, 89.5, 76, 45.4, 89, 92, 58, 45)\n",
    "print(\"scores =\",scores)\n",
    "# perform the following operations using tuple functions:\n",
    "# i. Identify the highest score and its index in the tuple.\n",
    "highest_score=max(scores)\n",
    "index1=scores.index(highest_score)\n",
    "print(\"highest score =\",highest_score ,\" index is \",index1)\n",
    "\n",
    "# ii. Find the lowest score and count how many times it appears.\n",
    "lowest_score=min(scores)\n",
    "count=scores.count(lowest_score)\n",
    "print(\"lowest score =\",lowest_score ,\" count is \",count)\n",
    "\n",
    "# iii. Reverse the tuple and return it as a list.\n",
    "scores=scores[::-1]\n",
    "score_list=list(scores)\n",
    "print(score_list)\n",
    "\n",
    "# iv. Check if a specific score ‘76’ (input by the user) is present in the tuple and print its first occurrence index, or a message saying it’s not present.int()\n",
    "s=float(input(\"enter score: \"))\n",
    "if s in scores:\n",
    "  print(\"element found at index \",scores.index(s))\n",
    "else :\n",
    "  print(\"its not present\")"
   ]
  },
  {
   "cell_type": "code",
   "execution_count": 3,
   "id": "6cb8143b-a595-434f-b9a4-498f12bf4c4c",
   "metadata": {},
   "outputs": [
    {
     "name": "stdout",
     "output_type": "stream",
     "text": [
      "list = [807, 611, 462, 283, 373, 241, 250, 600, 725, 492, 631, 116, 414, 505, 341, 108, 310, 655, 763, 134, 238, 727, 653, 728, 725, 567, 835, 896, 447, 443, 643, 217, 586, 337, 616, 763, 588, 474, 306, 544, 499, 190, 589, 755, 133, 531, 654, 284, 114, 400, 523, 491, 881, 273, 426, 764, 848, 410, 398, 647, 505, 514, 398, 724, 684, 168, 834, 810, 107, 540, 170, 345, 381, 209, 467, 748, 118, 101, 107, 434, 747, 817, 693, 375, 388, 716, 881, 611, 704, 736, 532, 612, 638, 675, 861, 357, 465, 233, 135, 207]\n",
      "Odd nums :  [807, 611, 283, 373, 241, 725, 631, 505, 341, 655, 763, 727, 653, 725, 567, 835, 447, 443, 643, 217, 337, 763, 499, 589, 755, 133, 531, 523, 491, 881, 273, 647, 505, 107, 345, 381, 209, 467, 101, 107, 747, 817, 693, 375, 881, 611, 675, 861, 357, 465, 233, 135, 207]\n",
      "Even nums :  [462, 250, 600, 492, 116, 414, 108, 310, 134, 238, 728, 896, 586, 616, 588, 474, 306, 544, 190, 654, 284, 114, 400, 426, 764, 848, 410, 398, 514, 398, 724, 684, 168, 834, 810, 540, 170, 748, 118, 434, 388, 716, 704, 736, 532, 612, 638]\n",
      "Prime nums :  [283, 373, 241, 631, 727, 653, 443, 643, 337, 499, 523, 491, 881, 647, 107, 467, 101, 107, 881, 233]\n"
     ]
    }
   ],
   "source": [
    "\n",
    "# 3. WAP to create a list of 100 random numbers between 100 and 900. Count and print the:\n",
    "import random as random\n",
    "\n",
    "def is_prime(num):\n",
    "  if num<=1:\n",
    "    return False\n",
    "  for i in range(2, int(num**0.5) + 1):\n",
    "        if num % i == 0:\n",
    "            return False\n",
    "  return True\n",
    "\n",
    "random_nums=[]\n",
    "\n",
    "for i in range(100):\n",
    "  random_nums.append(random.randint(100, 900))\n",
    "\n",
    "print(\"list =\",random_nums)\n",
    "\n",
    "odd_nums=[]\n",
    "even_nums=[]\n",
    "prime_nums=[]\n",
    "\n",
    "for i in random_nums:\n",
    "  if i%2==0:\n",
    "    even_nums.append(i)\n",
    "  else :\n",
    "    odd_nums.append(i)\n",
    "\n",
    "  if is_prime(i):\n",
    "    prime_nums.append(i)\n",
    "\n",
    "\n",
    "\n",
    "# i. All odd numbers\n",
    "print(\"Odd nums : \",odd_nums)\n",
    "# ii. All even numbers\n",
    "print(\"Even nums : \",even_nums)\n",
    "# iii. All prime numbers\n",
    "print(\"Prime nums : \",prime_nums)"
   ]
  },
  {
   "cell_type": "code",
   "execution_count": 4,
   "id": "7e2eb388-8ba1-452d-86e1-90c43e8195e7",
   "metadata": {},
   "outputs": [
    {
     "name": "stdout",
     "output_type": "stream",
     "text": [
      "unique score :  {34, 45, 78, 23, 56, 90}\n",
      "common scores :  {90, 78}\n",
      "symmetric difference :  {34, 45, 23, 56}\n",
      "is A subset of B  False\n",
      "is B a superset of A  False\n",
      "its not present\n"
     ]
    }
   ],
   "source": [
    "# 4. Consider the following two sets, A and B, representing scores of two teams in multiple matches. A = {34, 56, 78, 90} and B = {78, 45, 90, 23}\n",
    "# WAP to perform the following operations using set functions:\n",
    "A = {34, 56, 78, 90}\n",
    "B = {78, 45, 90, 23}\n",
    "\n",
    "# i. Find the unique scores achieved by both teams (union of sets).\n",
    "unique_scores=A.union(B)\n",
    "print(\"unique score : \",unique_scores)\n",
    "# ii. Identify the scores that are common to both teams (intersection of sets).\n",
    "common_scores=A.intersection(B)\n",
    "print(\"common scores : \",common_scores)\n",
    "\n",
    "# iii. Find the scores that are exclusive to each team (symmetric difference).\n",
    "exclusive_scores=A.symmetric_difference(B)\n",
    "print(\"symmetric difference : \",exclusive_scores)\n",
    "\n",
    "# iv. Check if the scores of team A are a subset of team B, and if team B's scores are a superset of team A.\n",
    "print(\"is A subset of B \",A.issubset(B))\n",
    "print(\"is B a superset of A \",B.issuperset(A))\n",
    "\n",
    "# v. Remove a specific score X (input by the user) from set A if it exists. If not, print a message saying it is not present.\n",
    "x=int(input(\"enter score to remove\"))\n",
    "if x in A:\n",
    "  A.remove(x)\n",
    "  print(A)\n",
    "else :\n",
    "  print(\"its not present\")"
   ]
  },
  {
   "cell_type": "code",
   "execution_count": 6,
   "id": "e61c87dd-40ab-412d-8a20-eec52964d13e",
   "metadata": {},
   "outputs": [
    {
     "name": "stdout",
     "output_type": "stream",
     "text": [
      "{'name': 'Alex', 'age': 30, 'salary': 10000, 'location': 'Los Angeles'}\n"
     ]
    }
   ],
   "source": [
    "# 5. Write a program to rename a key 'city' to 'location' in the dictionary.\n",
    "dictionary1 = {\n",
    "    \"name\": \"Alex\",\n",
    "    \"age\": 30,\n",
    "    \"salary\": 10000,\n",
    "    \"city\": \"Los Angeles\"\n",
    "}\n",
    "\n",
    "if \"city\" in dictionary1:\n",
    "    dictionary1[\"location\"] = dictionary1.pop(\"city\")\n",
    "\n",
    "print(dictionary1)\n"
   ]
  }
 ],
 "metadata": {
  "kernelspec": {
   "display_name": "Python 3",
   "language": "python",
   "name": "python3"
  },
  "language_info": {
   "codemirror_mode": {
    "name": "ipython",
    "version": 3
   },
   "file_extension": ".py",
   "mimetype": "text/x-python",
   "name": "python",
   "nbconvert_exporter": "python",
   "pygments_lexer": "ipython3",
   "version": "3.10.11"
  }
 },
 "nbformat": 4,
 "nbformat_minor": 5
}
